{
 "cells": [
  {
   "cell_type": "code",
   "execution_count": null,
   "metadata": {},
   "outputs": [],
   "source": [
    "! wget http://www.tdcj.state.tx.us/documents/High_Value_Data_Sets.xlsx"
   ]
  },
  {
   "cell_type": "code",
   "execution_count": null,
   "metadata": {},
   "outputs": [],
   "source": [
    "dir()"
   ]
  },
  {
   "cell_type": "code",
   "execution_count": null,
   "metadata": {},
   "outputs": [],
   "source": [
    "import pandas as pd"
   ]
  },
  {
   "cell_type": "code",
   "execution_count": null,
   "metadata": {},
   "outputs": [],
   "source": [
    "dir(pd)"
   ]
  },
  {
   "cell_type": "code",
   "execution_count": 9,
   "metadata": {},
   "outputs": [
    {
     "name": "stdout",
     "output_type": "stream",
     "text": [
      "<class 'pandas.core.frame.DataFrame'>\n",
      "RangeIndex: 142037 entries, 0 to 142036\n",
      "Data columns (total 20 columns):\n",
      "SID Number                 142037 non-null int64\n",
      "TDCJ Number                142037 non-null int64\n",
      "Name                       142037 non-null object\n",
      "Current Facility           142037 non-null object\n",
      "Gender                     142037 non-null object\n",
      "Race                       142037 non-null object\n",
      "DOB                        142037 non-null datetime64[ns]\n",
      "Projected Release          142036 non-null object\n",
      "Maximum Sentence Date      141910 non-null object\n",
      "Parole Eligibility Date    127246 non-null object\n",
      "Case Number                141976 non-null object\n",
      "County                     142036 non-null object\n",
      "Offense Code               142036 non-null float64\n",
      "TDCJ Offense               142036 non-null object\n",
      "Sentence Date              138905 non-null datetime64[ns]\n",
      "Offense Date               141991 non-null datetime64[ns]\n",
      "Sentence (Days)            142036 non-null object\n",
      "Last Parole Decision       128422 non-null object\n",
      "Next Parole Review Date    111863 non-null object\n",
      "Parole Review Status       128422 non-null object\n",
      "dtypes: datetime64[ns](3), float64(1), int64(2), object(14)\n",
      "memory usage: 21.7+ MB\n"
     ]
    }
   ],
   "source": [
    "xxx_df.info()"
   ]
  },
  {
   "cell_type": "code",
   "execution_count": 11,
   "metadata": {},
   "outputs": [
    {
     "data": {
      "text/plain": [
       "Timestamp('2003-11-19 00:00:00')"
      ]
     },
     "execution_count": 11,
     "metadata": {},
     "output_type": "execute_result"
    }
   ],
   "source": [
    "xxx_df.DOB.max()"
   ]
  },
  {
   "cell_type": "code",
   "execution_count": null,
   "metadata": {},
   "outputs": [],
   "source": []
  }
 ],
 "metadata": {
  "kernelspec": {
   "display_name": "conda_python3",
   "language": "python",
   "name": "conda_python3"
  },
  "language_info": {
   "codemirror_mode": {
    "name": "ipython",
    "version": 3
   },
   "file_extension": ".py",
   "mimetype": "text/x-python",
   "name": "python",
   "nbconvert_exporter": "python",
   "pygments_lexer": "ipython3",
   "version": "3.6.5"
  }
 },
 "nbformat": 4,
 "nbformat_minor": 2
}
